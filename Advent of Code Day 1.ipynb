{
 "cells": [
  {
   "cell_type": "markdown",
   "id": "23b57b3a",
   "metadata": {},
   "source": [
    "Advent of Code Day 1"
   ]
  },
  {
   "cell_type": "markdown",
   "id": "6093a548",
   "metadata": {},
   "source": [
    "Part 1"
   ]
  },
  {
   "cell_type": "code",
   "execution_count": 7,
   "id": "b5ce58c1",
   "metadata": {},
   "outputs": [],
   "source": [
    "m = open('C:\\\\Users\\\\marti\\\\Downloads\\\\advent of code/input.txt','r')\n",
    "m = m.readlines()"
   ]
  },
  {
   "cell_type": "markdown",
   "id": "cae8e7db",
   "metadata": {},
   "source": [
    "The solution is printed below:"
   ]
  },
  {
   "cell_type": "code",
   "execution_count": null,
   "id": "49495619",
   "metadata": {},
   "outputs": [],
   "source": [
    "larger = 0\n",
    "last  = 9999999\n",
    "    \n",
    "for x in m:\n",
    "    num = int(x)\n",
    "    if num > last:\n",
    "        larger = larger + 1\n",
    "    last = num\n",
    "    \n",
    "print(larger)"
   ]
  },
  {
   "cell_type": "markdown",
   "id": "74b20a1e",
   "metadata": {},
   "source": [
    "Part 2. The solution is printed below:"
   ]
  },
  {
   "cell_type": "code",
   "execution_count": 10,
   "id": "89df87ca",
   "metadata": {},
   "outputs": [
    {
     "name": "stdout",
     "output_type": "stream",
     "text": [
      "1311\n"
     ]
    }
   ],
   "source": [
    "larger = 0\n",
    "\n",
    "first_sum = 99999999\n",
    "\n",
    "for index,value in enumerate(m):\n",
    "    if index == len(m)-2:\n",
    "        break\n",
    "    second_sum = int(m[index]) + int(m[index+1]) + int(m[index + 2])\n",
    "    if second_sum > first_sum:\n",
    "        larger = larger + 1\n",
    "    first_sum = second_sum\n",
    "\n",
    "print(larger)"
   ]
  },
  {
   "cell_type": "code",
   "execution_count": null,
   "id": "8c6c5d0e",
   "metadata": {},
   "outputs": [],
   "source": []
  }
 ],
 "metadata": {
  "kernelspec": {
   "display_name": "Python 3 (ipykernel)",
   "language": "python",
   "name": "python3"
  },
  "language_info": {
   "codemirror_mode": {
    "name": "ipython",
    "version": 3
   },
   "file_extension": ".py",
   "mimetype": "text/x-python",
   "name": "python",
   "nbconvert_exporter": "python",
   "pygments_lexer": "ipython3",
   "version": "3.9.6"
  }
 },
 "nbformat": 4,
 "nbformat_minor": 5
}
