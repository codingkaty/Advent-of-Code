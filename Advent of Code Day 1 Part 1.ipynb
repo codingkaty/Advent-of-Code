{
 "cells": [
  {
   "cell_type": "markdown",
   "id": "23b57b3a",
   "metadata": {},
   "source": [
    "Advent of Code Day 1 Part 1"
   ]
  },
  {
   "cell_type": "code",
   "execution_count": null,
   "id": "b5ce58c1",
   "metadata": {},
   "outputs": [],
   "source": [
    "measurements = open('/home/jovyan/binder/input.txt','r')\n",
    "measurements = measurements.readlines()"
   ]
  },
  {
   "cell_type": "code",
   "execution_count": 6,
   "id": "49db626d",
   "metadata": {},
   "outputs": [
    {
     "name": "stdout",
     "output_type": "stream",
     "text": [
      "1288\n"
     ]
    }
   ],
   "source": [
    "larger = 0\n",
    "last  = 9999999\n",
    "    \n",
    "for x in measurements:\n",
    "    num = int(x)\n",
    "    if num > last:\n",
    "        larger = larger + 1\n",
    "    last = num\n",
    "    \n",
    "print(larger)"
   ]
  },
  {
   "cell_type": "code",
   "execution_count": null,
   "id": "54d8ed5f",
   "metadata": {},
   "outputs": [],
   "source": []
  }
 ],
 "metadata": {
  "kernelspec": {
   "display_name": "Python 3",
   "language": "python",
   "name": "python3"
  },
  "language_info": {
   "codemirror_mode": {
    "name": "ipython",
    "version": 3
   },
   "file_extension": ".py",
   "mimetype": "text/x-python",
   "name": "python",
   "nbconvert_exporter": "python",
   "pygments_lexer": "ipython3",
   "version": "3.6.13"
  }
 },
 "nbformat": 4,
 "nbformat_minor": 5
}
