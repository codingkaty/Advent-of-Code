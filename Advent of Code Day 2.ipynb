{
 "cells": [
  {
   "cell_type": "markdown",
   "id": "b3501c2e",
   "metadata": {},
   "source": [
    "Part 1, the solution is printed below:"
   ]
  },
  {
   "cell_type": "code",
   "execution_count": 3,
   "id": "92b93cc6",
   "metadata": {},
   "outputs": [],
   "source": [
    "import re\n",
    "course = open('C:\\\\Users\\\\marti\\\\Downloads\\\\advent of code/input2.txt','r')\n",
    "course = course.readlines()"
   ]
  },
  {
   "cell_type": "code",
   "execution_count": 14,
   "id": "b522fbe0",
   "metadata": {},
   "outputs": [
    {
     "name": "stdout",
     "output_type": "stream",
     "text": [
      "1694130\n"
     ]
    }
   ],
   "source": [
    "horizontal = 0\n",
    "depth = 0\n",
    "for d in course:\n",
    "    if \"forward\" in d:\n",
    "        num = re.findall('\\d',d)\n",
    "        horizontal = horizontal + int(num[0])\n",
    "    if \"up\" in d:\n",
    "        num = re.findall('\\d',d)\n",
    "        depth = depth - int(num[0])\n",
    "    if \"down\" in d:\n",
    "        num = re.findall('\\d',d)\n",
    "        depth = depth + int(num[0])\n",
    "location = horizontal*depth\n",
    "print(location)"
   ]
  },
  {
   "cell_type": "markdown",
   "id": "2e7b3c4d",
   "metadata": {},
   "source": [
    "Part 2, the solution is printed below:"
   ]
  },
  {
   "cell_type": "code",
   "execution_count": 17,
   "id": "c2bea0a9",
   "metadata": {},
   "outputs": [
    {
     "name": "stdout",
     "output_type": "stream",
     "text": [
      "1698850445\n"
     ]
    }
   ],
   "source": [
    "horizontal = 0\n",
    "depth = 0\n",
    "aim = 0\n",
    "for d in course:\n",
    "    if \"forward\" in d:\n",
    "        num = re.findall('\\d',d)\n",
    "        num = int(num[0])\n",
    "        horizontal = horizontal + num\n",
    "        depth = depth + aim*num\n",
    "    if \"up\" in d:\n",
    "        num = re.findall('\\d',d)\n",
    "        aim = aim - int(num[0])\n",
    "    if \"down\" in d:\n",
    "        num = re.findall('\\d',d)\n",
    "        aim = aim + int(num[0])\n",
    "location = horizontal*depth\n",
    "print(location)"
   ]
  },
  {
   "cell_type": "code",
   "execution_count": null,
   "id": "7423306d",
   "metadata": {},
   "outputs": [],
   "source": []
  }
 ],
 "metadata": {
  "kernelspec": {
   "display_name": "Python 3 (ipykernel)",
   "language": "python",
   "name": "python3"
  },
  "language_info": {
   "codemirror_mode": {
    "name": "ipython",
    "version": 3
   },
   "file_extension": ".py",
   "mimetype": "text/x-python",
   "name": "python",
   "nbconvert_exporter": "python",
   "pygments_lexer": "ipython3",
   "version": "3.9.6"
  }
 },
 "nbformat": 4,
 "nbformat_minor": 5
}
